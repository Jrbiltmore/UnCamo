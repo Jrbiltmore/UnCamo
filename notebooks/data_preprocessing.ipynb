{
    "cells": [
        {
            "cell_type": "markdown",
            "metadata": {},
            "source": [
                "# Data Preprocessing for Evolved Epithelial Modulation Detection\n",
                "This notebook focuses on preparing the data for training and analysis in the project. We'll cover:\n",
                "- Image normalization\n",
                "- Resizing\n",
                "- Data augmentation\n",
                "- Visualization of preprocessed data"
            ]
        },
        {
            "cell_type": "code",
            "metadata": {},
            "source": [
                "import cv2\n",
                "import numpy as np\n",
                "import matplotlib.pyplot as plt\n",
                "from tensorflow.keras.preprocessing.image import ImageDataGenerator"
            ],
            "execution_count": null,
            "outputs": []
        },
        {
            "cell_type": "markdown",
            "metadata": {},
            "source": [
                "## Image Normalization\n",
                "We'll start by normalizing the pixel intensities of images to bring them to a common scale."
            ]
        },
        {
            "cell_type": "code",
            "metadata": {},
            "source": [
                "def normalize_image(image, target_range=(0, 255)):\n",
                "    image_min, image_max = np.min(image), np.max(image)\n",
                "    normalized_image = (image - image_min) / (image_max - image_min) * (target_range[1] - target_range[0]) + target_range[0]\n",
                "    return normalized_image.astype(np.uint8)\n",
                "\n",
                "# Load and normalize an example image\n",
                "image = cv2.imread('path/to/image.png', cv2.IMREAD_COLOR)\n",
                "normalized_image = normalize_image(image)\n",
                "plt.imshow(cv2.cvtColor(normalized_image, cv2.COLOR_BGR2RGB))\n",
                "plt.title('Normalized Image')\n",
                "plt.show()"
            ],
            "execution_count": null,
            "outputs": []
        },
        {
            "cell_type": "markdown",
            "metadata": {},
            "source": [
                "## Image Resizing\n",
                "We resize the images to a consistent target size while maintaining the aspect ratio."
            ]
        },
        {
            "cell_type": "code",
            "metadata": {},
            "source": [
                "def resize_image(image, target_size):\n",
                "    h, w = image.shape[:2]\n",
                "    scale = min(target_size[0] / w, target_size[1] / h)\n",
                "    new_w, new_h = int(w * scale), int(h * scale)\n",
                "    resized_image = cv2.resize(image, (new_w, new_h), interpolation=cv2.INTER_AREA)\n",
                "    return resized_image\n",
                "\n",
                "# Resize an example image\n",
                "target_size = (128, 128)\n",
                "resized_image = resize_image(image, target_size)\n",
                "plt.imshow(cv2.cvtColor(resized_image, cv2.COLOR_BGR2RGB))\n",
                "plt.title('Resized Image')\n",
                "plt.show()"
            ],
            "execution_count": null,
            "outputs": []
        },
        {
            "cell_type": "markdown",
            "metadata": {},
            "source": [
                "## Data Augmentation\n",
                "We use augmentation techniques to generate more training data by applying transformations like rotations, shifts, flips, and zoom."
            ]
        },
        {
            "cell_type": "code",
            "metadata": {},
            "source": [
                "datagen = ImageDataGenerator(rotation_range=20, zoom_range=0.15, width_shift_range=0.2, height_shift_range=0.2, shear_range=0.15,\n",
                "                             horizontal_flip=True, fill_mode=\"nearest\")\n",
                "\n",
                "# Visualize augmented images\n",
                "augmented_images = datagen.flow(np.expand_dims(image, 0), batch_size=1)\n",
                "for i in range(5):\n",
                "    augmented_image = next(augmented_images)[0].astype('uint8')\n",
                "    plt.subplot(1, 5, i+1)\n",
                "    plt.imshow(cv2.cvtColor(augmented_image, cv2.COLOR_BGR2RGB))\n",
                "    plt.axis('off')\n",
                "plt.show()"
            ],
            "execution_count": null,
            "outputs": []
        },
        {
            "cell_type": "markdown",
            "metadata": {},
            "source": [
                "## Visualizing Preprocessed Data\n",
                "Finally, we visualize the preprocessed data to ensure the transformations have been applied correctly."
            ]
        },
        {
            "cell_type": "code",
            "metadata": {},
            "source": [
                "# Visualizing the preprocessed image (normalized and resized)\n",
                "preprocessed_image = normalize_image(resize_image(image, target_size))\n",
                "plt.imshow(cv2.cvtColor(preprocessed_image, cv2.COLOR_BGR2RGB))\n",
                "plt.title('Preprocessed Image')\n",
                "plt.show()"
            ],
            "execution_count": null,
            "outputs": []
        }
    ],
    "metadata": {
        "kernelspec": {
            "display_name": "Python 3",
            "language": "python",
            "name": "python3"
        },
        "language_info": {
            "name": "python",
            "version": "3.8.5"
        }
    },
    "nbformat": 4,
    "nbformat_minor": 4
}